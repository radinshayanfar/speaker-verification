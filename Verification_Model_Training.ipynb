{
  "nbformat": 4,
  "nbformat_minor": 0,
  "metadata": {
    "colab": {
      "name": "Verification-Model-Training.ipynb",
      "provenance": [],
      "machine_shape": "hm",
      "collapsed_sections": []
    },
    "kernelspec": {
      "name": "python3",
      "display_name": "Python 3"
    },
    "language_info": {
      "name": "python"
    },
    "accelerator": "GPU",
    "gpuClass": "standard"
  },
  "cells": [
    {
      "cell_type": "markdown",
      "source": [
        "# Preliminaries"
      ],
      "metadata": {
        "id": "46DmsB1IXXfy"
      }
    },
    {
      "cell_type": "code",
      "execution_count": 1,
      "metadata": {
        "id": "8xosre2tUD2V",
        "colab": {
          "base_uri": "https://localhost:8080/"
        },
        "outputId": "c6376d9e-6c01-4928-aabd-0d569ea610a8"
      },
      "outputs": [
        {
          "output_type": "stream",
          "name": "stdout",
          "text": [
            "Mounted at /gdrive\n"
          ]
        }
      ],
      "source": [
        "from google.colab import drive\n",
        "drive.mount('/gdrive')"
      ]
    },
    {
      "cell_type": "code",
      "source": [
        "config = {\n",
        "    'outputs':['/gdrive/MyDrive/shared_space/commonvoice-farsi/sb-outputs-1.npy',\n",
        "               '/gdrive/MyDrive/shared_space/commonvoice-farsi/sb-outputs-2.npy',\n",
        "               '/gdrive/MyDrive/shared_space/commonvoice-farsi/sb-outputs-3.npy',\n",
        "               '/gdrive/MyDrive/shared_space/commonvoice-farsi/sb-outputs-4.npy',\n",
        "               '/gdrive/MyDrive/shared_space/commonvoice-farsi/sb-outputs-5.npy',\n",
        "               '/gdrive/MyDrive/shared_space/commonvoice-farsi/sb-outputs-6.npy'],\n",
        "    'positive_pairs':'/gdrive/MyDrive/shared_space/commonvoice-farsi/positive-pairs.pkl',\n",
        "    'negative_pairs':'/gdrive/MyDrive/shared_space/commonvoice-farsi/negative-pairs.pkl',\n",
        "    'path_to_part':'/gdrive/MyDrive/shared_space/commonvoice-farsi/path-to-part.pkl',\n",
        "    'path_to_index':'/gdrive/MyDrive/shared_space/commonvoice-farsi/path-to-index.pkl',\n",
        "    'models_path':'/gdrive/MyDrive/arman/verification-models/',\n",
        "    'num_epochs':200,\n",
        "    'learning_rate':1e-1,\n",
        "    'batch_size':32,\n",
        "    'train_percentage':90\n",
        "}"
      ],
      "metadata": {
        "id": "rCBkvsQ1ULbT"
      },
      "execution_count": 86,
      "outputs": []
    },
    {
      "cell_type": "code",
      "source": [
        "import numpy as np\n",
        "import pickle as pkl\n",
        "import torch\n",
        "from torch import nn\n",
        "from torch.utils.data import Dataset\n",
        "from torch.utils.data import DataLoader\n",
        "import os\n",
        "from sklearn.model_selection import train_test_split"
      ],
      "metadata": {
        "id": "wSJYewZfaUEJ"
      },
      "execution_count": 24,
      "outputs": []
    },
    {
      "cell_type": "markdown",
      "source": [
        "# Loading the Data"
      ],
      "metadata": {
        "id": "K3i9Kt9tXhuc"
      }
    },
    {
      "cell_type": "code",
      "source": [
        "outputs = [np.load(f'/gdrive/MyDrive/shared_space/commonvoice-farsi/sb-outputs-{i}.npy', allow_pickle=True) for i in range(1,7)]"
      ],
      "metadata": {
        "id": "b7Sd2Y5HXiv-"
      },
      "execution_count": 12,
      "outputs": []
    },
    {
      "cell_type": "code",
      "source": [
        "outputs[0].shape"
      ],
      "metadata": {
        "colab": {
          "base_uri": "https://localhost:8080/"
        },
        "id": "ettsBzcOaiRj",
        "outputId": "6a2720d4-bf61-4189-e729-bf2bf9aa3105"
      },
      "execution_count": 5,
      "outputs": [
        {
          "output_type": "execute_result",
          "data": {
            "text/plain": [
              "(50000, 192)"
            ]
          },
          "metadata": {},
          "execution_count": 5
        }
      ]
    },
    {
      "cell_type": "code",
      "source": [
        "outputs[3].shape"
      ],
      "metadata": {
        "colab": {
          "base_uri": "https://localhost:8080/"
        },
        "id": "ccvuamPfam7h",
        "outputId": "e32b827a-f8d5-44ee-b56f-8fcb6143d4e1"
      },
      "execution_count": 13,
      "outputs": [
        {
          "output_type": "execute_result",
          "data": {
            "text/plain": [
              "(50000, 192)"
            ]
          },
          "metadata": {},
          "execution_count": 13
        }
      ]
    },
    {
      "cell_type": "code",
      "source": [
        "with open(config['positive_pairs'], 'rb') as file:\n",
        "  pos_pairs = pkl.load(file)\n",
        "with open(config['negative_pairs'], 'rb') as file:\n",
        "  neg_pairs = pkl.load(file)\n",
        "with open(config['path_to_part'], 'rb') as file:\n",
        "  path_to_part = pkl.load(file)\n",
        "with open(config['path_to_index'], 'rb') as file:\n",
        "  path_to_index = pkl.load(file)"
      ],
      "metadata": {
        "id": "_H4OCsrraphC"
      },
      "execution_count": 14,
      "outputs": []
    },
    {
      "cell_type": "code",
      "source": [
        "pos_pairs[0]"
      ],
      "metadata": {
        "colab": {
          "base_uri": "https://localhost:8080/"
        },
        "id": "0AZTRNxZjdpP",
        "outputId": "52b54a6b-794a-4404-8c16-d728eb22b61d"
      },
      "execution_count": 10,
      "outputs": [
        {
          "output_type": "execute_result",
          "data": {
            "text/plain": [
              "['common_voice_fa_20871593.wav', 'common_voice_fa_20871629.wav']"
            ]
          },
          "metadata": {},
          "execution_count": 10
        }
      ]
    },
    {
      "cell_type": "code",
      "source": [
        "def pair_to_array(pair):\n",
        "  first_array = outputs[int(path_to_part[pair[0]])-1][path_to_index[pair[0]]]\n",
        "  second_array = outputs[int(path_to_part[pair[1]])-1][path_to_index[pair[1]]]\n",
        "  return first_array, second_array"
      ],
      "metadata": {
        "id": "iNcXILiij6er"
      },
      "execution_count": 15,
      "outputs": []
    },
    {
      "cell_type": "code",
      "source": [
        "pair_to_array(pos_pairs[0])[0].shape"
      ],
      "metadata": {
        "colab": {
          "base_uri": "https://localhost:8080/"
        },
        "id": "mCwk02aGkoPN",
        "outputId": "d8eecf34-929e-4a87-deef-1ae13c528720"
      },
      "execution_count": 8,
      "outputs": [
        {
          "output_type": "execute_result",
          "data": {
            "text/plain": [
              "(192,)"
            ]
          },
          "metadata": {},
          "execution_count": 8
        }
      ]
    },
    {
      "cell_type": "code",
      "source": [
        "pos_arrays = np.array([pair_to_array(pair) for pair in pos_pairs])\n",
        "neg_arrays = np.array([pair_to_array(pair) for pair in neg_pairs])"
      ],
      "metadata": {
        "id": "Hxbdy26ylxgy"
      },
      "execution_count": 19,
      "outputs": []
    },
    {
      "cell_type": "code",
      "source": [
        "pos_arrays.shape"
      ],
      "metadata": {
        "colab": {
          "base_uri": "https://localhost:8080/"
        },
        "id": "H_YkS3BRl8as",
        "outputId": "7986b4db-1d48-4656-b99b-870c946ac56e"
      },
      "execution_count": 20,
      "outputs": [
        {
          "output_type": "execute_result",
          "data": {
            "text/plain": [
              "(10230, 2, 192)"
            ]
          },
          "metadata": {},
          "execution_count": 20
        }
      ]
    },
    {
      "cell_type": "code",
      "source": [
        "neg_arrays.shape"
      ],
      "metadata": {
        "colab": {
          "base_uri": "https://localhost:8080/"
        },
        "id": "sat0xxDJw_iw",
        "outputId": "2ce274d5-6ae4-4b44-ba28-c6a44de1fc29"
      },
      "execution_count": 21,
      "outputs": [
        {
          "output_type": "execute_result",
          "data": {
            "text/plain": [
              "(11101, 2, 192)"
            ]
          },
          "metadata": {},
          "execution_count": 21
        }
      ]
    },
    {
      "cell_type": "code",
      "source": [
        "data = np.concatenate((pos_arrays, neg_arrays), axis=0)"
      ],
      "metadata": {
        "id": "CirUFyZcyPKe"
      },
      "execution_count": 29,
      "outputs": []
    },
    {
      "cell_type": "code",
      "source": [
        "data.shape"
      ],
      "metadata": {
        "colab": {
          "base_uri": "https://localhost:8080/"
        },
        "id": "MOckJc0azFCm",
        "outputId": "efdbc149-3c71-4276-e3a7-ef46a58082aa"
      },
      "execution_count": 32,
      "outputs": [
        {
          "output_type": "execute_result",
          "data": {
            "text/plain": [
              "(21331, 2, 192)"
            ]
          },
          "metadata": {},
          "execution_count": 32
        }
      ]
    },
    {
      "cell_type": "code",
      "source": [
        "labels = np.array([1 if i < pos_arrays.shape[0] else 0 for i in range(data.shape[0])])"
      ],
      "metadata": {
        "id": "WKz8kKH2yyMO"
      },
      "execution_count": 30,
      "outputs": []
    },
    {
      "cell_type": "code",
      "source": [
        "labels.shape"
      ],
      "metadata": {
        "colab": {
          "base_uri": "https://localhost:8080/"
        },
        "id": "fVpC81rQzCoj",
        "outputId": "9a2f7cda-37e6-4823-fd9b-a30ef459e06f"
      },
      "execution_count": 31,
      "outputs": [
        {
          "output_type": "execute_result",
          "data": {
            "text/plain": [
              "(21331,)"
            ]
          },
          "metadata": {},
          "execution_count": 31
        }
      ]
    },
    {
      "cell_type": "markdown",
      "source": [
        "# Splitting the data into training, testing and validation (development) parts"
      ],
      "metadata": {
        "id": "t3F9JCxCxrzu"
      }
    },
    {
      "cell_type": "code",
      "source": [
        "f_train, f_rem, l_train, l_rem = train_test_split(data, labels, test_size=1-config['train_percentage']/100, random_state=50)\n",
        "f_test, f_dev, l_test, l_dev = train_test_split(f_rem, l_rem, test_size=0.5, random_state=50)"
      ],
      "metadata": {
        "id": "oUfQrItsxCm1"
      },
      "execution_count": 35,
      "outputs": []
    },
    {
      "cell_type": "code",
      "source": [
        "print(f'train features: {f_train.shape}, dev features: {f_dev.shape}, test features: {f_test.shape}')"
      ],
      "metadata": {
        "colab": {
          "base_uri": "https://localhost:8080/"
        },
        "id": "usKOBO-MzRu4",
        "outputId": "69c14897-c629-48b4-a497-ea257d5865ac"
      },
      "execution_count": 40,
      "outputs": [
        {
          "output_type": "stream",
          "name": "stdout",
          "text": [
            "train features: (19197, 2, 192), dev features: (1067, 2, 192), test features: (1067, 2, 192)\n"
          ]
        }
      ]
    },
    {
      "cell_type": "code",
      "source": [
        "print(f'train labels: {len(l_train)}, dev labels: {len(l_dev)}, test labels: {len(l_test)}')"
      ],
      "metadata": {
        "colab": {
          "base_uri": "https://localhost:8080/"
        },
        "id": "hKkmIo7yzSgB",
        "outputId": "dc48974d-bf1f-4e0e-c73c-8e721e82c736"
      },
      "execution_count": 41,
      "outputs": [
        {
          "output_type": "stream",
          "name": "stdout",
          "text": [
            "train labels: 19197, dev labels: 1067, test labels: 1067\n"
          ]
        }
      ]
    },
    {
      "cell_type": "markdown",
      "source": [
        "# Converting Everything to Tensors"
      ],
      "metadata": {
        "id": "jHlhl6l1zgAp"
      }
    },
    {
      "cell_type": "code",
      "source": [
        "device = 'cuda' if torch.cuda.is_available() else 'cpu'\n",
        "device"
      ],
      "metadata": {
        "colab": {
          "base_uri": "https://localhost:8080/",
          "height": 35
        },
        "id": "piMMrhmNzuvA",
        "outputId": "f97b682f-ea42-4a9c-8f07-14a1b3fd6889"
      },
      "execution_count": 45,
      "outputs": [
        {
          "output_type": "execute_result",
          "data": {
            "text/plain": [
              "'cuda'"
            ],
            "application/vnd.google.colaboratory.intrinsic+json": {
              "type": "string"
            }
          },
          "metadata": {},
          "execution_count": 45
        }
      ]
    },
    {
      "cell_type": "code",
      "source": [
        "class MyDataset(Dataset):\n",
        "    def __init__(self, features, labels, device):\n",
        "        self.features = torch.from_numpy(features).to(device)\n",
        "        self.labels = torch.from_numpy(np.array(labels).reshape(-1, 1)).to(device)\n",
        "    def __len__(self):\n",
        "        return self.features.shape[0]\n",
        "    def __getitem__(self, idx):\n",
        "        return self.features[idx], self.labels[idx]"
      ],
      "metadata": {
        "id": "hZRWC6yozUUR"
      },
      "execution_count": 62,
      "outputs": []
    },
    {
      "cell_type": "code",
      "source": [
        "train_dataset = MyDataset(f_train, l_train, device)\n",
        "test_dataset = MyDataset(f_test, l_test, device)\n",
        "dev_dataset = MyDataset(f_dev, l_dev, device)"
      ],
      "metadata": {
        "id": "lEcQrcWWzmSb"
      },
      "execution_count": 63,
      "outputs": []
    },
    {
      "cell_type": "code",
      "source": [
        "train_dataloader = DataLoader(train_dataset, batch_size=config['batch_size'], shuffle=True)\n",
        "test_dataloader = DataLoader(test_dataset, batch_size=config['batch_size'], shuffle=True)\n",
        "dev_dataloader = DataLoader(dev_dataset, batch_size=config['batch_size'], shuffle=True)"
      ],
      "metadata": {
        "id": "GAViccUIzp3_"
      },
      "execution_count": 64,
      "outputs": []
    },
    {
      "cell_type": "code",
      "source": [
        "train_dataset[0][0].shape"
      ],
      "metadata": {
        "colab": {
          "base_uri": "https://localhost:8080/"
        },
        "id": "UwShv9Wv1ZZq",
        "outputId": "4be64c12-5408-4a33-d764-135a9ca62a5f"
      },
      "execution_count": 68,
      "outputs": [
        {
          "output_type": "execute_result",
          "data": {
            "text/plain": [
              "torch.Size([2, 192])"
            ]
          },
          "metadata": {},
          "execution_count": 68
        }
      ]
    },
    {
      "cell_type": "markdown",
      "source": [
        "# Neural Network Architecture"
      ],
      "metadata": {
        "id": "j73QWJohztcy"
      }
    },
    {
      "cell_type": "code",
      "source": [
        "class my_neural_net(torch.nn.Module):\n",
        "    def __init__(self):\n",
        "        super(my_neural_net, self).__init__() \n",
        "        self.flatten = torch.nn.Flatten()\n",
        "        self.first_layer = torch.nn.Sequential( \n",
        "            nn.Linear(2*192, 192),\n",
        "            nn.ReLU(),\n",
        "            nn.Linear(192, 1),\n",
        "            nn.Sigmoid()\n",
        "        )\n",
        "    def forward(self, x):\n",
        "        x = self.flatten(x)\n",
        "        output = self.first_layer(x)\n",
        "        return output"
      ],
      "metadata": {
        "id": "tIsdM-zVzvdv"
      },
      "execution_count": 165,
      "outputs": []
    },
    {
      "cell_type": "code",
      "source": [
        "my_nn = my_neural_net()\n",
        "my_nn = my_nn.to(device)"
      ],
      "metadata": {
        "id": "WDSBIBX80A8x"
      },
      "execution_count": 166,
      "outputs": []
    },
    {
      "cell_type": "code",
      "source": [
        "train_dataset[:2][0].shape"
      ],
      "metadata": {
        "colab": {
          "base_uri": "https://localhost:8080/"
        },
        "id": "XTByKkZ0ChQV",
        "outputId": "29050764-9c05-4343-c245-b41af9b0e353"
      },
      "execution_count": 168,
      "outputs": [
        {
          "output_type": "execute_result",
          "data": {
            "text/plain": [
              "torch.Size([2, 2, 192])"
            ]
          },
          "metadata": {},
          "execution_count": 168
        }
      ]
    },
    {
      "cell_type": "code",
      "source": [
        "my_nn(train_dataset[:2][0]).shape"
      ],
      "metadata": {
        "colab": {
          "base_uri": "https://localhost:8080/"
        },
        "id": "l-AibiYK0IT8",
        "outputId": "062b83af-2eb3-4034-90ca-be50954310b9"
      },
      "execution_count": 167,
      "outputs": [
        {
          "output_type": "execute_result",
          "data": {
            "text/plain": [
              "torch.Size([2, 1])"
            ]
          },
          "metadata": {},
          "execution_count": 167
        }
      ]
    },
    {
      "cell_type": "code",
      "source": [
        "my_nn(train_dataset[:2][0]).shape"
      ],
      "metadata": {
        "colab": {
          "base_uri": "https://localhost:8080/"
        },
        "id": "_61R5oXR0DAt",
        "outputId": "154c3a86-9201-476b-b0f5-cd3fe8c271ae"
      },
      "execution_count": 153,
      "outputs": [
        {
          "output_type": "execute_result",
          "data": {
            "text/plain": [
              "torch.Size([2, 1])"
            ]
          },
          "metadata": {},
          "execution_count": 153
        }
      ]
    },
    {
      "cell_type": "markdown",
      "source": [
        "# Training"
      ],
      "metadata": {
        "id": "h7W1K6G21n-a"
      }
    },
    {
      "cell_type": "code",
      "source": [
        "loss_fn = nn.BCELoss()\n",
        "optimizer = torch.optim.SGD(my_nn.parameters(), lr=config['learning_rate'])"
      ],
      "metadata": {
        "id": "Xsg4S54m1ohY"
      },
      "execution_count": 154,
      "outputs": []
    },
    {
      "cell_type": "code",
      "source": [
        "def output_to_label(out):\n",
        "    dist_to_0 = abs(out)\n",
        "    dist_to_1 = abs(out-1)\n",
        "    if dist_to_0 <= dist_to_1:\n",
        "        return 0\n",
        "    else:\n",
        "        return 1"
      ],
      "metadata": {
        "id": "RHmTYeGS1t77"
      },
      "execution_count": 155,
      "outputs": []
    },
    {
      "cell_type": "code",
      "source": [
        "def train_loop(dataloader, model, loss_fn, optimizer, epoch_num):\n",
        "    num_points = len(dataloader.dataset)\n",
        "    for batch, (features, labels) in enumerate(dataloader):        \n",
        "        # Compute prediction and loss\n",
        "        labels = labels.to(torch.float32)\n",
        "        pred = model(features).to(torch.float32)\n",
        "        loss = loss_fn(pred, labels)\n",
        "        \n",
        "        # Backpropagation\n",
        "        optimizer.zero_grad() # sets gradients of all model parameters to zero\n",
        "        loss.backward() # calculate the gradients again\n",
        "        optimizer.step() # w = w - learning_rate * grad(loss)_with_respect_to_w\n",
        "\n",
        "        if batch % 100 == 0:\n",
        "            loss, current = loss.item(), batch * len(features)\n",
        "            print(f\"\\r Epoch {epoch_num} - loss: {loss:>7f}  [{current:>5d}/{num_points:>5d}]\", end=\" \")\n",
        "\n",
        "\n",
        "def test_loop(dataloader, model, loss_fn, epoch_num, name):\n",
        "    num_points = len(dataloader.dataset)\n",
        "    sum_test_loss, correct = 0, 0\n",
        "\n",
        "    with torch.no_grad():\n",
        "        for batch, (features, labels) in enumerate(dataloader):\n",
        "            labels = labels.to(torch.float32)\n",
        "            pred = model(features).to(torch.float32)\n",
        "            sum_test_loss += loss_fn(pred, labels).item() # add the current loss to the sum of the losses\n",
        "            # convert the outputs of the model on the current batch to a numpy array\n",
        "            pred_lst = list(pred.cpu().numpy().squeeze())\n",
        "            pred_lst = [output_to_label(item) for item in pred_lst]\n",
        "            # convert the original labels corresponding to the current batch to a numpy array\n",
        "            output_lst = list(labels.cpu().numpy().squeeze()) \n",
        "            # determine the points for which the model is correctly predicting the label (add a 1 for each)\n",
        "            match_lst = [1 if p==o else 0 for (p, o) in zip(pred_lst, output_lst)] \n",
        "            # count how many points are labeled correctly in this batch and add the number to the overall count of the correct labeled points\n",
        "            correct += sum(match_lst) \n",
        "            \n",
        "    sum_test_loss /= num_points\n",
        "    correct /= num_points\n",
        "    print(f\"\\r Epoch {epoch_num} - {name} Error: Accuracy: {(100*correct):>0.1f}%, Avg loss: {sum_test_loss:>8f}\", end=\" \")"
      ],
      "metadata": {
        "id": "xjVKl28NzruZ"
      },
      "execution_count": 156,
      "outputs": []
    },
    {
      "cell_type": "code",
      "source": [
        "for epoch_num in range(1, config['num_epochs']+1):\n",
        "    train_loop(train_dataloader, my_nn, loss_fn, optimizer, epoch_num)\n",
        "    test_loop(dev_dataloader, my_nn, loss_fn, epoch_num, 'Development/Validation')"
      ],
      "metadata": {
        "id": "LZVHma6L18mC"
      },
      "execution_count": null,
      "outputs": []
    },
    {
      "cell_type": "code",
      "source": [
        "test_loop(train_dataloader, my_nn, loss_fn, epoch_num, 'Training')"
      ],
      "metadata": {
        "id": "2DyTOVSV3nfN"
      },
      "execution_count": null,
      "outputs": []
    },
    {
      "cell_type": "code",
      "source": [
        "test_loop(test_dataloader, my_nn, loss_fn, epoch_num, 'Test')"
      ],
      "metadata": {
        "id": "-K-upbB12BCM"
      },
      "execution_count": null,
      "outputs": []
    },
    {
      "cell_type": "code",
      "source": [
        "my_nn"
      ],
      "metadata": {
        "id": "Kl6NNr-h3K8u"
      },
      "execution_count": null,
      "outputs": []
    },
    {
      "cell_type": "code",
      "source": [
        "torch.save(my_nn.state_dict(), config['models_path']+\"neural_net3.pth\")"
      ],
      "metadata": {
        "id": "YCXH5gB94orQ"
      },
      "execution_count": 161,
      "outputs": []
    }
  ]
}