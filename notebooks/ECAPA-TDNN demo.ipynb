{
  "nbformat": 4,
  "nbformat_minor": 0,
  "metadata": {
    "colab": {
      "provenance": [],
      "collapsed_sections": []
    },
    "kernelspec": {
      "name": "python3",
      "display_name": "Python 3"
    },
    "language_info": {
      "name": "python"
    }
  },
  "cells": [
    {
      "cell_type": "markdown",
      "source": [
        "# ECAPA-TDNN demo\n",
        "\n",
        "This notebook demonstrates formerly trained ecapa-tdnn model usage."
      ],
      "metadata": {
        "id": "hIGOGxWJzaMl"
      }
    },
    {
      "cell_type": "markdown",
      "source": [
        "## Step 0: SpeechBrain Installation and Repository Cloning\n",
        "Before starting, let's install speechbrain and clone the repository:"
      ],
      "metadata": {
        "id": "bEe8jsYvQBz2"
      }
    },
    {
      "cell_type": "code",
      "source": [
        "%%capture\n",
        "# For pip installation\n",
        "!pip install speechbrain\n",
        "\n",
        "!git clone https://github.com/Sharif-DAL-INEF-1400/Verification-and-Identification-Speechbrain.git SpeakerVerification"
      ],
      "metadata": {
        "id": "1MtHqsOBQcCw"
      },
      "execution_count": 3,
      "outputs": []
    },
    {
      "cell_type": "markdown",
      "source": [
        "## Step 1: Pretrained model download"
      ],
      "metadata": {
        "id": "DC1YMR3N11vT"
      }
    },
    {
      "cell_type": "markdown",
      "source": [
        "Now, we download pretrained model from Drive using gdown:"
      ],
      "metadata": {
        "id": "XfxtA0L616HL"
      }
    },
    {
      "cell_type": "code",
      "source": [
        "!gdown -q -O best_model --folder 1R_gvC_St56Atxfu8MLRb1PIlBnBahta2"
      ],
      "metadata": {
        "id": "lzFOv-Yf-fAI"
      },
      "execution_count": 5,
      "outputs": []
    },
    {
      "cell_type": "markdown",
      "source": [
        "## Step 2: Inferencing"
      ],
      "metadata": {
        "id": "RGx4uj7bFl_t"
      }
    },
    {
      "cell_type": "code",
      "source": [
        "%cd SpeakerVerification"
      ],
      "metadata": {
        "colab": {
          "base_uri": "https://localhost:8080/"
        },
        "id": "j5qm3Gwc13cn",
        "outputId": "af8cc700-d74e-4dff-e00c-142e80825bee"
      },
      "execution_count": 6,
      "outputs": [
        {
          "output_type": "stream",
          "name": "stdout",
          "text": [
            "/content/SpeakerVerification\n"
          ]
        }
      ]
    },
    {
      "cell_type": "code",
      "source": [
        "from verification import SpeakerVerification\n",
        "\n",
        "verification = SpeakerVerification.from_hparams(source=\"/content/best_model/\", hparams_file='hparams_inference.yaml')"
      ],
      "metadata": {
        "id": "DxX-hJzb2oEC"
      },
      "execution_count": 7,
      "outputs": []
    },
    {
      "cell_type": "markdown",
      "source": [
        "**Single file encoding**"
      ],
      "metadata": {
        "id": "NARWYnXx23Lq"
      }
    },
    {
      "cell_type": "code",
      "source": [
        "import torchaudio\n",
        "\n",
        "signal, sample_rate = torchaudio.load('/path/to/sample1.mp3')\n",
        "\n",
        "# Compute speaker embeddings\n",
        "embeddings1 = verification.encode_batch(signal)\n",
        "\n",
        "embeddings1"
      ],
      "metadata": {
        "colab": {
          "base_uri": "https://localhost:8080/"
        },
        "id": "YTNe6wUn2Xu4",
        "outputId": "ac936e25-c73e-481e-cdc3-a9360c46fd64"
      },
      "execution_count": null,
      "outputs": [
        {
          "output_type": "execute_result",
          "data": {
            "text/plain": [
              "tensor([[[ -3.6837,  -0.6558,  -0.6454,   2.6533,   3.3016,  -9.2773,   3.9467,\n",
              "            0.4680,  -5.6970,   7.1742,  -5.2316,  -2.9714,   2.4388,  -5.3347,\n",
              "            3.1162,  -2.4510,  -0.2553,   0.4154,   4.9278,  -4.5087,  -0.9209,\n",
              "            4.8101,   2.3582,  -3.8135,  -7.6600,  -0.4009,  -7.4168,  -0.2756,\n",
              "            3.2330,   4.8542,   1.0191,   3.2338,   2.6052,   5.7562,  -1.6302,\n",
              "            0.0497,  -4.4003,   0.6605,  10.7517,   4.6959,  -0.1784,   1.9866,\n",
              "            5.8134,  -3.2151,   2.0901,   0.6933,   4.1360,  -0.1310,   4.8007,\n",
              "            3.6745,  -2.3712,  -4.0766,  -0.9199,   3.4865,   4.6883,  -3.6697,\n",
              "            1.2828,   0.9975,  -5.1622,   4.1725,  -5.4362,  -5.0500,  -5.6218,\n",
              "            4.7661,  -2.4573,  -2.4288,  -3.4452,   2.7631,   2.7647,   5.4494,\n",
              "           -1.8735,   4.4892,   3.8760,  -0.1997,  -7.3866,   2.1623,   0.5600,\n",
              "            2.9146,   3.0708,  -2.2795,  -1.6158,   2.3083,   2.2174,  -2.9761,\n",
              "            4.4273,   7.2554,  -4.2679,  -2.2159,   1.3315,   1.5102,  -5.0694,\n",
              "           -0.4596,  -3.0889,  -3.9366,  -8.6617,  -2.6393,   3.0554,  -3.2806,\n",
              "            3.8348,   7.8633,   1.5526,   5.0844,  -0.6387,  -3.8531,   2.1360,\n",
              "           -3.3292,  -5.6038,  -3.5026,   5.3360,   3.2355,   5.3204,   1.6246,\n",
              "           -5.3076,  -4.7136,   2.4896,   7.8850,  -1.9030,  -5.4847,  -2.2329,\n",
              "            3.0671,   2.7990,  -0.1008,  -2.1214,   4.0932,  -3.1949,   0.0380,\n",
              "            1.3225,   3.7883,   2.6997,  -1.1072,  -0.8542,  13.3373,  10.0360,\n",
              "           -4.2269,  -1.8355,  -5.0254,  -0.8496,  -6.8971,   0.1256,   2.2926,\n",
              "           -1.2573,  -5.8636,   1.4584,  -3.0701,  -0.2335,  -0.4419,   2.2221,\n",
              "            0.6085,   1.8170,   7.5292,  -5.0631,   0.8271,   4.6048,   6.6867,\n",
              "            1.4171,  -5.4440,   4.5410,  -7.4754,   2.0703,  -6.0375,  -0.2554,\n",
              "            4.0136,  -2.4941,   8.0527,   7.0687,   3.7842, -10.0588,  -0.6080,\n",
              "           -2.0748,  -5.3767,  -1.9697,  -2.7092,  -0.3870,  10.4424,  -1.8998,\n",
              "            2.7411,  -8.8866,   2.1982,   2.4175,   0.4224,  -3.4317,  -7.1746,\n",
              "            0.9125,  -0.8347,   0.4344,   0.3522,  -4.0117,  -4.0814,  -5.3214,\n",
              "            5.3724,  -2.4324,   0.7935]]])"
            ]
          },
          "metadata": {},
          "execution_count": 9
        }
      ]
    },
    {
      "cell_type": "markdown",
      "source": [
        "**Two files verification**\n",
        "\n",
        "Note: use `mean_norm=False`, `snorm=False`, and/or `a_norm=False` (amplitude norm) flags to disable corresponding normalization."
      ],
      "metadata": {
        "id": "DGOB_B943AWs"
      }
    },
    {
      "cell_type": "code",
      "source": [
        "file1 = '/path/to/sample1.mp3'  # Speaker 1\n",
        "file2 = '/path/to/sample2.mp3'  # Speaker 2\n",
        "file3 = '/path/to/sample3.mp3'  # Speaker 2\n",
        "\n",
        "score, prediction = verification.verify_files(file1, file2, threshold = 8)\n",
        "print(f\"Different speakers: score: {score.item()}, prediction: {prediction.item()}\")  # True = same speaker, False = Different speakers\n",
        "\n",
        "\n",
        "score, prediction = verification.verify_files(file2, file3, threshold = 8)\n",
        "print(f\"Different speakers: score: {score.item()}, prediction: {prediction.item()}\")  # True = same speaker, False = Different speakers"
      ],
      "metadata": {
        "colab": {
          "base_uri": "https://localhost:8080/"
        },
        "id": "6QBgTijw2_mb",
        "outputId": "ef69c26c-a601-47e8-ca15-6b54f9633f5a"
      },
      "execution_count": null,
      "outputs": [
        {
          "output_type": "stream",
          "name": "stdout",
          "text": [
            "Different speakers: score: 7.726524353027344, prediction: False\n",
            "Different speakers: score: 14.730301856994629, prediction: True\n"
          ]
        }
      ]
    },
    {
      "cell_type": "code",
      "source": [],
      "metadata": {
        "id": "8mx4Gu_53tNc"
      },
      "execution_count": null,
      "outputs": []
    }
  ]
}