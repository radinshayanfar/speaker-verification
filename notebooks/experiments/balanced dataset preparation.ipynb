{
 "cells": [
  {
   "cell_type": "code",
   "execution_count": 7,
   "id": "d72cdbf6",
   "metadata": {},
   "outputs": [],
   "source": [
    "import pickle as pkl\n",
    "import random"
   ]
  },
  {
   "cell_type": "code",
   "execution_count": 4,
   "id": "96e0844f",
   "metadata": {},
   "outputs": [],
   "source": [
    "with open('path-to-part.pkl', 'rb') as file:\n",
    "    path_to_part = pkl.load(file)\n",
    "with open('path-to-clientid.pkl', 'rb') as file:\n",
    "    path_to_clientid = pkl.load(file)\n",
    "with open('path-to-gender.pkl', 'rb') as file:\n",
    "    path_to_gender = pkl.load(file)\n",
    "with open('client-to-files.pkl', 'rb') as file:\n",
    "    client_to_files = pkl.load(file)"
   ]
  },
  {
   "cell_type": "code",
   "execution_count": 5,
   "id": "26a03f68",
   "metadata": {},
   "outputs": [],
   "source": [
    "all_files = list(path_to_part.keys())"
   ]
  },
  {
   "cell_type": "code",
   "execution_count": 6,
   "id": "bd86dfd2",
   "metadata": {},
   "outputs": [
    {
     "data": {
      "text/plain": [
       "'common_voice_fa_20327670.wav'"
      ]
     },
     "execution_count": 6,
     "metadata": {},
     "output_type": "execute_result"
    }
   ],
   "source": [
    "all_files[0]"
   ]
  },
  {
   "cell_type": "code",
   "execution_count": 11,
   "id": "a0335f38",
   "metadata": {},
   "outputs": [
    {
     "data": {
      "text/plain": [
       "'common_voice_fa_20995861.wav'"
      ]
     },
     "execution_count": 11,
     "metadata": {},
     "output_type": "execute_result"
    }
   ],
   "source": [
    "random.choice(all_files)"
   ]
  },
  {
   "cell_type": "code",
   "execution_count": 12,
   "id": "adc305a6",
   "metadata": {},
   "outputs": [],
   "source": [
    "from collections import Counter"
   ]
  },
  {
   "cell_type": "code",
   "execution_count": 28,
   "id": "806dfca8",
   "metadata": {},
   "outputs": [
    {
     "name": "stdout",
     "output_type": "stream",
     "text": [
      " iter:36913,955 man files,1239 woman files, 277 unique-men, 184 unique-women"
     ]
    },
    {
     "name": "stderr",
     "output_type": "stream",
     "text": [
      "IOPub data rate exceeded.\n",
      "The notebook server will temporarily stop sending output\n",
      "to the client in order to avoid crashing it.\n",
      "To change this limit, set the config variable\n",
      "`--NotebookApp.iopub_data_rate_limit`.\n",
      "\n",
      "Current values:\n",
      "NotebookApp.iopub_data_rate_limit=1000000.0 (bytes/sec)\n",
      "NotebookApp.rate_limit_window=3.0 (secs)\n",
      "\n"
     ]
    },
    {
     "name": "stdout",
     "output_type": "stream",
     "text": [
      " iter:427191,1024 man files,1537 woman files, 296 unique-men, 197 unique-women "
     ]
    },
    {
     "name": "stderr",
     "output_type": "stream",
     "text": [
      "IOPub data rate exceeded.\n",
      "The notebook server will temporarily stop sending output\n",
      "to the client in order to avoid crashing it.\n",
      "To change this limit, set the config variable\n",
      "`--NotebookApp.iopub_data_rate_limit`.\n",
      "\n",
      "Current values:\n",
      "NotebookApp.iopub_data_rate_limit=1000000.0 (bytes/sec)\n",
      "NotebookApp.rate_limit_window=3.0 (secs)\n",
      "\n"
     ]
    },
    {
     "name": "stdout",
     "output_type": "stream",
     "text": [
      " iter:1000001,1024 man files,1537 woman files, 296 unique-men, 197 unique-women "
     ]
    }
   ],
   "source": [
    "unique_men = set()\n",
    "unique_women = set()\n",
    "chosen_files = set()\n",
    "num_man_files = 0\n",
    "num_wman_files = 0\n",
    "man_counter = Counter()\n",
    "woman_counter = Counter()\n",
    "iterations_counter = 0\n",
    "while len(unique_men) < 2000 and len(unique_women) < 2000 and iterations_counter <= 1000000:\n",
    "    iterations_counter += 1\n",
    "    print(f'\\r iter:{iterations_counter},{num_man_files} man files,{num_wman_files} woman files, {len(unique_men)} unique-men, {len(unique_women)} unique-women', end=' ')\n",
    "    chosen_file = random.choice(all_files)\n",
    "    if chosen_file in chosen_files:\n",
    "        continue\n",
    "    else:\n",
    "        chosen_person = path_to_clientid[chosen_file]\n",
    "        chosen_gender = path_to_gender[chosen_file]\n",
    "        if chosen_gender == 'male':\n",
    "            if len(unique_women) > 0 and len(unique_men) / len(unique_women) > 1.5:\n",
    "                continue\n",
    "            if (num_man_files > 0 and num_wman_files > 0) and num_man_files / num_wman_files > 1.5:\n",
    "                continue\n",
    "            if man_counter[chosen_person] <= 20:\n",
    "                chosen_files.add(chosen_file)\n",
    "                man_counter[chosen_person] += 1\n",
    "                unique_men.add(chosen_person)\n",
    "                num_man_files += 1\n",
    "            else:\n",
    "                continue\n",
    "        elif chosen_gender == 'female':\n",
    "            if (num_man_files > 0 and num_wman_files > 0) and num_wman_files / num_man_files > 1.5:\n",
    "                continue\n",
    "            if woman_counter[chosen_person] <= 20:\n",
    "                chosen_files.add(chosen_file)\n",
    "                woman_counter[chosen_person] += 1\n",
    "                unique_women.add(chosen_person)\n",
    "                num_wman_files += 1\n",
    "            else:\n",
    "                continue\n",
    "        else:\n",
    "            continue"
   ]
  },
  {
   "cell_type": "code",
   "execution_count": 29,
   "id": "6ad04778",
   "metadata": {},
   "outputs": [],
   "source": [
    "chosen_files_lst = list(chosen_files)"
   ]
  },
  {
   "cell_type": "code",
   "execution_count": 30,
   "id": "e7cc8c97",
   "metadata": {},
   "outputs": [
    {
     "data": {
      "text/plain": [
       "['common_voice_fa_21580651.wav',\n",
       " 'common_voice_fa_19582975.wav',\n",
       " 'common_voice_fa_19439691.wav',\n",
       " 'common_voice_fa_21157757.wav',\n",
       " 'common_voice_fa_18740017.wav',\n",
       " 'common_voice_fa_22947872.wav',\n",
       " 'common_voice_fa_20977512.wav',\n",
       " 'common_voice_fa_18242786.wav',\n",
       " 'common_voice_fa_19210598.wav',\n",
       " 'common_voice_fa_18740131.wav']"
      ]
     },
     "execution_count": 30,
     "metadata": {},
     "output_type": "execute_result"
    }
   ],
   "source": [
    "chosen_files_lst[:10]"
   ]
  },
  {
   "cell_type": "code",
   "execution_count": 31,
   "id": "39616ebe",
   "metadata": {},
   "outputs": [],
   "source": [
    "from tqdm import tqdm"
   ]
  },
  {
   "cell_type": "code",
   "execution_count": 42,
   "id": "5fbf7d2b",
   "metadata": {},
   "outputs": [
    {
     "name": "stdout",
     "output_type": "stream",
     "text": [
      " iter:82472, 3449 both pairs, 2439 male pairs, 2506 female pairs, 493 unique persons "
     ]
    },
    {
     "name": "stderr",
     "output_type": "stream",
     "text": [
      "IOPub data rate exceeded.\n",
      "The notebook server will temporarily stop sending output\n",
      "to the client in order to avoid crashing it.\n",
      "To change this limit, set the config variable\n",
      "`--NotebookApp.iopub_data_rate_limit`.\n",
      "\n",
      "Current values:\n",
      "NotebookApp.iopub_data_rate_limit=1000000.0 (bytes/sec)\n",
      "NotebookApp.rate_limit_window=3.0 (secs)\n",
      "\n"
     ]
    },
    {
     "name": "stdout",
     "output_type": "stream",
     "text": [
      " iter:119253, 3766 both pairs, 2884 male pairs, 2568 female pairs, 493 unique persons "
     ]
    },
    {
     "name": "stderr",
     "output_type": "stream",
     "text": [
      "IOPub data rate exceeded.\n",
      "The notebook server will temporarily stop sending output\n",
      "to the client in order to avoid crashing it.\n",
      "To change this limit, set the config variable\n",
      "`--NotebookApp.iopub_data_rate_limit`.\n",
      "\n",
      "Current values:\n",
      "NotebookApp.iopub_data_rate_limit=1000000.0 (bytes/sec)\n",
      "NotebookApp.rate_limit_window=3.0 (secs)\n",
      "\n"
     ]
    },
    {
     "name": "stdout",
     "output_type": "stream",
     "text": [
      " iter:278698, 3997 both pairs, 3928 male pairs, 2664 female pairs, 493 unique persons"
     ]
    },
    {
     "name": "stderr",
     "output_type": "stream",
     "text": [
      "IOPub data rate exceeded.\n",
      "The notebook server will temporarily stop sending output\n",
      "to the client in order to avoid crashing it.\n",
      "To change this limit, set the config variable\n",
      "`--NotebookApp.iopub_data_rate_limit`.\n",
      "\n",
      "Current values:\n",
      "NotebookApp.iopub_data_rate_limit=1000000.0 (bytes/sec)\n",
      "NotebookApp.rate_limit_window=3.0 (secs)\n",
      "\n"
     ]
    },
    {
     "name": "stdout",
     "output_type": "stream",
     "text": [
      " iter:1000001, 4163 both pairs, 4163 male pairs, 2775 female pairs, 493 unique persons "
     ]
    }
   ],
   "source": [
    "file_usg_counter = Counter()\n",
    "both_pair_count = 0\n",
    "male_pair_count = 0\n",
    "female_pair_count = 0\n",
    "person_counter = Counter()\n",
    "unique_persons = set()\n",
    "negative_pairs = []\n",
    "pair_count = Counter()\n",
    "num_iterations = 0\n",
    "while num_iterations <= 1000000:\n",
    "    num_iterations += 1\n",
    "    print(f'\\r iter:{num_iterations}, {both_pair_count} both pairs, {male_pair_count} male pairs, {female_pair_count} female pairs, {len(unique_persons)} unique persons', end=' ')\n",
    "    first_file = random.choice(chosen_files_lst)\n",
    "    first_person = path_to_clientid[first_file]\n",
    "    first_gender = path_to_gender[first_file]\n",
    "    second_file = random.choice(chosen_files_lst)\n",
    "    second_person = path_to_clientid[second_file]\n",
    "    second_gender = path_to_gender[second_file]\n",
    "    if person_counter[first_person] > 50 or person_counter[second_person] > 50:\n",
    "        continue\n",
    "    if pair_count[first_file+'-'+second_file] > 0:\n",
    "        continue\n",
    "    if person_counter[first_person] <= 50 and person_counter[second_person] <= 50:\n",
    "        if (first_gender == 'male' and second_gender == 'female') or (first_gender == 'female' and second_gender == 'male'):\n",
    "            curr_pair_tag = 'both'\n",
    "        elif first_gender == 'male' and second_gender == 'male':\n",
    "            curr_pair_tag = 'male'\n",
    "        elif first_gender == 'female' and second_gender == 'female':\n",
    "            curr_pair_tag = 'female'\n",
    "        if curr_pair_tag == 'both':\n",
    "            if (both_pair_count > 0 and male_pair_count > 0 and female_pair_count > 0) and (both_pair_count / male_pair_count > 1.5 or both_pair_count / female_pair_count > 1.5):\n",
    "                continue\n",
    "            else:\n",
    "                negative_pairs.append([first_file, second_file])\n",
    "                both_pair_count += 1\n",
    "                unique_persons.add(first_person)\n",
    "                unique_persons.add(second_person)\n",
    "                person_counter[first_person] += 1\n",
    "                person_counter[second_person] += 1\n",
    "        elif curr_pair_tag == 'male':\n",
    "            if (both_pair_count > 0 and male_pair_count > 0 and female_pair_count > 0) and (male_pair_count / both_pair_count > 1.5 or male_pair_count / female_pair_count > 1.5):\n",
    "                continue\n",
    "            else:\n",
    "                negative_pairs.append([first_file, second_file])\n",
    "                male_pair_count += 1\n",
    "                unique_persons.add(first_person)\n",
    "                unique_persons.add(second_person)\n",
    "                person_counter[first_person] += 1\n",
    "                person_counter[second_person] += 1\n",
    "        elif curr_pair_tag == 'female':\n",
    "            if (both_pair_count > 0 and male_pair_count > 0 and female_pair_count > 0) and (female_pair_count / both_pair_count > 1.5 or female_pair_count / male_pair_count > 1.5):\n",
    "                continue\n",
    "            else:\n",
    "                negative_pairs.append([first_file, second_file])\n",
    "                female_pair_count += 1\n",
    "                unique_persons.add(first_person)\n",
    "                unique_persons.add(second_person)\n",
    "                person_counter[first_person] += 1\n",
    "                person_counter[second_person] += 1"
   ]
  },
  {
   "cell_type": "code",
   "execution_count": 45,
   "id": "0bc56569",
   "metadata": {},
   "outputs": [
    {
     "data": {
      "text/plain": [
       "11101"
      ]
     },
     "execution_count": 45,
     "metadata": {},
     "output_type": "execute_result"
    }
   ],
   "source": [
    "len(negative_pairs)"
   ]
  },
  {
   "cell_type": "code",
   "execution_count": 46,
   "id": "babc3026",
   "metadata": {},
   "outputs": [],
   "source": [
    "with open('negative-pairs.pkl', 'wb') as file:\n",
    "    pkl.dump(negative_pairs, file)"
   ]
  },
  {
   "cell_type": "code",
   "execution_count": 47,
   "id": "0d2ab378",
   "metadata": {},
   "outputs": [
    {
     "data": {
      "text/plain": [
       "['common_voice_fa_19410043.wav', 'common_voice_fa_18218166.wav']"
      ]
     },
     "execution_count": 47,
     "metadata": {},
     "output_type": "execute_result"
    }
   ],
   "source": [
    "negative_pairs[100]"
   ]
  },
  {
   "cell_type": "code",
   "execution_count": 49,
   "id": "c63985d3",
   "metadata": {},
   "outputs": [],
   "source": [
    "clients_lst = list(set(list(path_to_clientid.values())))"
   ]
  },
  {
   "cell_type": "code",
   "execution_count": 51,
   "id": "d33dc28b",
   "metadata": {},
   "outputs": [],
   "source": [
    "clients_lst = clients_lst[1:]"
   ]
  },
  {
   "cell_type": "code",
   "execution_count": 52,
   "id": "cc5adb07",
   "metadata": {},
   "outputs": [
    {
     "data": {
      "text/plain": [
       "['c1b79072d7ad0f8585bf7183fa9f8dd8fbe9ff3d61265463bb77d873141fa3459a3567782e8606ebe13613cdd7dabc59ee2b5c2a939670c4b77904b785b6a3c9',\n",
       " 'a42a528fa4a6520904e07713c40124c9260b21c87c5da7dfa78661c924e299826004f8ce6cc4fde1fd19a6baee16f05296e272cb69522cc33de04b827abf3931',\n",
       " '26bb5fca874f9b113b0098d25616a73fc989f5ed3c9a18bd6e77849c463997e03fde3147cb14b7e9ae47e38a7d4163ed1b5e25730bd5e07d70f9d27c70c194cb',\n",
       " '8058b06b9c7de74481addbd96a5fcb3b71988dfd89728fa929c74e69d31a02fa6decf8cb868ff6c86f24a46e152b53e6e24ccf0b2c1900135310d03d663065ed',\n",
       " 'ce112ecbfd879414764152344be3f623156838e7e23103621ca99b0e2d2cf0cd3f372d1618056961fbb6d210cc37a6b9993b2035c95716b9fffd3a04290d1ab7',\n",
       " 'dd63db339548df86826bd43b6a02a59978f58f4f2e4c4a4f815c5e5d6a0c3cd4ab534dbcbb995e1a6e1c555d0eea1082b3f3ed6760ee45fca5a4ba87ae69d9e0',\n",
       " '7666b2aeeca31959e4b72ee74d34f8d3fae1cbf24d9f07f6ecbe1ab4bfc854f9b9738949fb5433233f7772feeee39c20137f8d2cbe249af0af8e7ed465449005',\n",
       " '921dc086b4b410e60fa181c8ab6db81411940e00eda90c5ab1614d0dae5ef75c230c2dec7d0f4165793c903e3d2489cf885f6766f65723a1ad9405064c243e5a',\n",
       " '55bf2c520fde0e9c552ca374e2d4d0dd6bf91081de3491341952212021aec9ea41c7339cb4b92f6a21aaf775a3817476b6b6636700ea746af49d2740ce007ad5',\n",
       " '8499a00b115640982e36242a4c163a3f6356ecf43d3d5ae1045b6db8e32e76133f6f7d3ddee87bc02292bca785ba2dc13affa015538d37fe4b4f28ae75b4c968']"
      ]
     },
     "execution_count": 52,
     "metadata": {},
     "output_type": "execute_result"
    }
   ],
   "source": [
    "clients_lst[:10]"
   ]
  },
  {
   "cell_type": "code",
   "execution_count": 55,
   "id": "f07ed32a",
   "metadata": {},
   "outputs": [
    {
     "ename": "NameError",
     "evalue": "name 'nan' is not defined",
     "output_type": "error",
     "traceback": [
      "\u001b[1;31m---------------------------------------------------------------------------\u001b[0m",
      "\u001b[1;31mNameError\u001b[0m                                 Traceback (most recent call last)",
      "\u001b[1;32m<ipython-input-55-024dacb41695>\u001b[0m in \u001b[0;36m<module>\u001b[1;34m\u001b[0m\n\u001b[1;32m----> 1\u001b[1;33m \u001b[1;32mdel\u001b[0m \u001b[0mpath_to_clientid\u001b[0m\u001b[1;33m[\u001b[0m\u001b[0mnan\u001b[0m\u001b[1;33m]\u001b[0m\u001b[1;33m\u001b[0m\u001b[1;33m\u001b[0m\u001b[0m\n\u001b[0m",
      "\u001b[1;31mNameError\u001b[0m: name 'nan' is not defined"
     ]
    }
   ],
   "source": [
    "del path_to_clientid[nan]"
   ]
  },
  {
   "cell_type": "code",
   "execution_count": 69,
   "id": "669194c2",
   "metadata": {},
   "outputs": [],
   "source": [
    "person_to_gender = {}\n",
    "for (p, g) in list(path_to_gender.items()):\n",
    "    if type(p) == 'str' and type(g) == 'str':\n",
    "#     print(p)\n",
    "#     print(g)\n",
    "        client = path_to_clientid[p]\n",
    "        person_to_gender[client] = g"
   ]
  },
  {
   "cell_type": "code",
   "execution_count": 71,
   "id": "e7931238",
   "metadata": {},
   "outputs": [
    {
     "data": {
      "text/plain": [
       "nan"
      ]
     },
     "execution_count": 71,
     "metadata": {},
     "output_type": "execute_result"
    }
   ],
   "source": [
    "path_to_gender[client_to_files['7666b2aeeca31959e4b72ee74d34f8d3fae1cbf24d9f07f6ecbe1ab4bfc854f9b9738949fb5433233f7772feeee39c20137f8d2cbe249af0af8e7ed465449005'][0]]"
   ]
  },
  {
   "cell_type": "code",
   "execution_count": 80,
   "id": "1a60ea2f",
   "metadata": {},
   "outputs": [
    {
     "name": "stdout",
     "output_type": "stream",
     "text": [
      " iter:79990, 329 unique men, 219 unique women, 11190 pairs"
     ]
    },
    {
     "name": "stderr",
     "output_type": "stream",
     "text": [
      "IOPub data rate exceeded.\n",
      "The notebook server will temporarily stop sending output\n",
      "to the client in order to avoid crashing it.\n",
      "To change this limit, set the config variable\n",
      "`--NotebookApp.iopub_data_rate_limit`.\n",
      "\n",
      "Current values:\n",
      "NotebookApp.iopub_data_rate_limit=1000000.0 (bytes/sec)\n",
      "NotebookApp.rate_limit_window=3.0 (secs)\n",
      "\n"
     ]
    },
    {
     "name": "stdout",
     "output_type": "stream",
     "text": [
      " iter:191606, 329 unique men, 219 unique women, 11190 pairs "
     ]
    },
    {
     "name": "stderr",
     "output_type": "stream",
     "text": [
      "IOPub data rate exceeded.\n",
      "The notebook server will temporarily stop sending output\n",
      "to the client in order to avoid crashing it.\n",
      "To change this limit, set the config variable\n",
      "`--NotebookApp.iopub_data_rate_limit`.\n",
      "\n",
      "Current values:\n",
      "NotebookApp.iopub_data_rate_limit=1000000.0 (bytes/sec)\n",
      "NotebookApp.rate_limit_window=3.0 (secs)\n",
      "\n"
     ]
    },
    {
     "name": "stdout",
     "output_type": "stream",
     "text": [
      " iter:257926, 329 unique men, 219 unique women, 11190 pairs "
     ]
    },
    {
     "name": "stderr",
     "output_type": "stream",
     "text": [
      "IOPub data rate exceeded.\n",
      "The notebook server will temporarily stop sending output\n",
      "to the client in order to avoid crashing it.\n",
      "To change this limit, set the config variable\n",
      "`--NotebookApp.iopub_data_rate_limit`.\n",
      "\n",
      "Current values:\n",
      "NotebookApp.iopub_data_rate_limit=1000000.0 (bytes/sec)\n",
      "NotebookApp.rate_limit_window=3.0 (secs)\n",
      "\n"
     ]
    },
    {
     "name": "stdout",
     "output_type": "stream",
     "text": [
      " iter:316221, 329 unique men, 219 unique women, 11190 pairs"
     ]
    },
    {
     "name": "stderr",
     "output_type": "stream",
     "text": [
      "IOPub data rate exceeded.\n",
      "The notebook server will temporarily stop sending output\n",
      "to the client in order to avoid crashing it.\n",
      "To change this limit, set the config variable\n",
      "`--NotebookApp.iopub_data_rate_limit`.\n",
      "\n",
      "Current values:\n",
      "NotebookApp.iopub_data_rate_limit=1000000.0 (bytes/sec)\n",
      "NotebookApp.rate_limit_window=3.0 (secs)\n",
      "\n"
     ]
    },
    {
     "name": "stdout",
     "output_type": "stream",
     "text": [
      " iter:1000001, 329 unique men, 219 unique women, 11190 pairs "
     ]
    }
   ],
   "source": [
    "num_iterations = 0\n",
    "unique_men = set()\n",
    "unique_women = set()\n",
    "pair_counter = Counter()\n",
    "men_counter = Counter()\n",
    "women_counter = Counter()\n",
    "positive_pairs = []\n",
    "while num_iterations <= 1000000:\n",
    "    num_iterations += 1\n",
    "    print(f'\\r iter:{num_iterations}, {len(unique_men)} unique men, {len(unique_women)} unique women, {len(pairs)} pairs', end=' ')\n",
    "    person = random.choice(clients_lst)\n",
    "    if path_to_gender[client_to_files[person][0]] not in {'male', 'female'}:\n",
    "        continue\n",
    "    gender = path_to_gender[client_to_files[person][0]]\n",
    "    curr_files_lst = client_to_files[person]\n",
    "    if len(curr_files_lst) < 2:\n",
    "        continue\n",
    "    curr_pair = random.sample(curr_files_lst, 2)\n",
    "    if pair_counter[curr_pair[0]+'-'+curr_pair[1]] > 0:\n",
    "        continue\n",
    "    if (gender == 'male' and men_counter[person] > 50) or (gender=='female' and women_counter[person] > 50):\n",
    "        continue\n",
    "    if len(unique_women)>0 and (len(unique_men) / len(unique_women) > 1.5) and gender == 'male':\n",
    "        continue\n",
    "    if gender == 'male':\n",
    "        unique_men.add(person)\n",
    "        men_counter[person] += 1\n",
    "    elif gender == 'female':\n",
    "        unique_women.add(person)\n",
    "        women_counter[person] += 1\n",
    "    positive_pairs.append(curr_pair)\n",
    "    pair_counter[curr_pair[0]+'-'+curr_pair[1]] += 1"
   ]
  },
  {
   "cell_type": "code",
   "execution_count": 81,
   "id": "071fc961",
   "metadata": {},
   "outputs": [],
   "source": [
    "with open('positive-pairs.pkl', 'wb') as file:\n",
    "    pkl.dump(positive_pairs, file)"
   ]
  },
  {
   "cell_type": "code",
   "execution_count": 83,
   "id": "cce2ceb9",
   "metadata": {},
   "outputs": [
    {
     "data": {
      "text/plain": [
       "['common_voice_fa_18582526.wav', 'common_voice_fa_18582672.wav']"
      ]
     },
     "execution_count": 83,
     "metadata": {},
     "output_type": "execute_result"
    }
   ],
   "source": [
    "positive_pairs[100]"
   ]
  },
  {
   "cell_type": "code",
   "execution_count": null,
   "id": "21216a3b",
   "metadata": {},
   "outputs": [],
   "source": []
  }
 ],
 "metadata": {
  "kernelspec": {
   "display_name": "Python 3",
   "language": "python",
   "name": "python3"
  },
  "language_info": {
   "codemirror_mode": {
    "name": "ipython",
    "version": 3
   },
   "file_extension": ".py",
   "mimetype": "text/x-python",
   "name": "python",
   "nbconvert_exporter": "python",
   "pygments_lexer": "ipython3",
   "version": "3.8.8"
  }
 },
 "nbformat": 4,
 "nbformat_minor": 5
}
